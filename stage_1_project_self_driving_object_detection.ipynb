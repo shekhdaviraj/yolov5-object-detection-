{
  "cells": [
    {
      "cell_type": "code",
      "execution_count": null,
      "metadata": {
        "id": "wbvMlHd_QwMG"
      },
      "outputs": [],
      "source": [
        "!git clone https://github.com/ultralytics/yolov5\n",
        "!pip install -qr yolov5/requirements.txt\n",
        "%cd yolov5\n",
        "\n",
        "import torch\n",
        "from IPython.display import Image, clear_output\n",
        "#from utils.google_utils import gdrive_download\n",
        "\n",
        "clear_output()"
      ]
    },
    {
      "cell_type": "code",
      "execution_count": 2,
      "metadata": {
        "id": "Ne9MM7XL-dB2",
        "colab": {
          "base_uri": "https://localhost:8080/"
        },
        "outputId": "50bcd670-9ee9-4371-ba00-ed16926fedf8"
      },
      "outputs": [
        {
          "output_type": "stream",
          "name": "stdout",
          "text": [
            "Mounted at /content/drive\n"
          ]
        }
      ],
      "source": [
        "from google.colab import drive\n",
        "drive.mount('/content/drive')"
      ]
    },
    {
      "cell_type": "code",
      "execution_count": null,
      "metadata": {
        "colab": {
          "base_uri": "https://localhost:8080/"
        },
        "id": "rDQdEcQxr6X5",
        "outputId": "e889ad0f-d9ba-42bf-b1e4-d916366b4839"
      },
      "outputs": [
        {
          "output_type": "stream",
          "name": "stdout",
          "text": [
            "/content/drive/MyDrive/yolov5/dataset\n",
            "  % Total    % Received % Xferd  Average Speed   Time    Time     Time  Current\n",
            "                                 Dload  Upload   Total   Spent    Left  Speed\n",
            "100   888  100   888    0     0   2259      0 --:--:-- --:--:-- --:--:--  2259\n",
            " 38 6262M   38 2415M    0     0  52.7M      0  0:01:58  0:00:45  0:01:13 58.7M^C\n"
          ]
        }
      ],
      "source": [
        "%cd /content/drive/MyDrive/yolov5/dataset\n",
        "!curl -L \"https://public.roboflow.com/ds/3a7YoghK5M?key=sSXWEm5AKp\" > roboflow.zip; "
      ]
    },
    {
      "cell_type": "code",
      "source": [
        "from zipfile import ZipFile\n",
        "\n",
        "with ZipFile('/content/drive/MyDrive/yolov5/dataset/roboflow.zip', 'r') as zipObj:\n",
        "   # Extract all the contents of zip file in different directory\n",
        "   zipObj.extractall('/content/drive/MyDrive/yolov5/dataset/')\n",
        "   print('File is unzipped in /content/drive/MyDrive/yolov5/dataset folder')"
      ],
      "metadata": {
        "colab": {
          "base_uri": "https://localhost:8080/"
        },
        "id": "uF_-OgXOOk64",
        "outputId": "4b4218b9-b2c4-4e3f-fec1-7737aa25af40"
      },
      "execution_count": null,
      "outputs": [
        {
          "output_type": "stream",
          "name": "stdout",
          "text": [
            "File is unzipped in /content/drive/MyDrive/yolov5/dataset folder\n"
          ]
        }
      ]
    },
    {
      "cell_type": "code",
      "execution_count": null,
      "metadata": {
        "id": "L0MuiJHi3Ctq",
        "colab": {
          "base_uri": "https://localhost:8080/"
        },
        "outputId": "0f8be714-d753-4525-d0b4-0f04162ea00a"
      },
      "outputs": [
        {
          "output_type": "stream",
          "name": "stdout",
          "text": [
            "/content/drive/MyDrive/yolov5/dataset\n"
          ]
        }
      ],
      "source": [
        "%cd /content/drive/MyDrive/yolov5/dataset/\n",
        "\n",
        "!mkdir train/\n",
        "!mkdir train/images\n",
        "!mkdir train/labels\n",
        "!mkdir valid/\n",
        "!mkdir valid/images\n",
        "!mkdir valid/labels\n",
        "!mkdir test/\n",
        "!mkdir test/images\n",
        "!mkdir test/labels"
      ]
    },
    {
      "cell_type": "code",
      "source": [
        "import os #provides functions for creating and removing a directory (folder), fetching its contents, changing and identifying the current directory,\n",
        "import shutil #method in Python is used to copy the content of source file to destination file or directory\n",
        "%cd /content/drive/MyDrive/yolov5/dataset/\n",
        "# allImages = glob.glob(\"/export/images/*.jpg\")\n",
        "allImages = []\n",
        "for filename in os.listdir(\"/content/drive/MyDrive/yolov5/dataset/export/images\"):\n",
        "    if filename.endswith(\".jpg\"):\n",
        "      allImages.append(filename)\n",
        "trainImages = []\n",
        "valImages = []\n",
        "trainLabels = []\n",
        "valLabels = []\n",
        "testImages = []\n",
        "testLabels = []\n",
        "print(len(allImages)) #total 27000 images\n",
        "\n",
        "testCount = int(0.2 * len(allImages)/5)\n",
        "print(testCount) #540\n",
        "trainCount = len(allImages)/5 - testCount-1\n",
        "valCount = int(0.2 * trainCount)\n",
        "trainCount = trainCount - valCount-1\n",
        "\n",
        "print(trainCount, valCount, testCount)\n",
        "#1727.0           431         540\n",
        "# # create training Dataset\n",
        "j = 0\n",
        "k = 0\n",
        "for i in range(0,int(len(allImages)/10)):\n",
        "  if i < trainCount: # create training images i will go 0 to 2700 & traincount is 1727 \n",
        "    trainImages.append(allImages[i])\n",
        "  elif i >= trainCount and i<(valCount + trainCount):\n",
        "    valImages.append(allImages[i])\n",
        "  else:\n",
        "    testImages.append(allImages[i])\n",
        "\n",
        "print(len(trainImages), len(valImages), len(testImages))\n",
        "\n",
        "# # moving training images\n",
        "source = \"/content/drive/MyDrive/yolov5/dataset/export/images/\"\n",
        "destination = \"train/images/\"\n",
        "for fileT in trainImages:\n",
        "  shutil.move(source+fileT , destination+fileT)\n",
        "\n",
        "source = \"/content/drive/MyDrive/yolov5/dataset/export/images/\"\n",
        "destination = \"valid/images/\"\n",
        "for fileT in valImages:\n",
        "  shutil.move(source+fileT , destination+fileT)\n",
        "\n",
        "source = \"/content/drive/MyDrive/yolov5/dataset/export/images/\"\n",
        "destination = \"test/images/\"\n",
        "for fileT in testImages:\n",
        "  shutil.move(source+fileT , destination+fileT)\n",
        "\n",
        "# moving labels\n",
        "source = \"/content/drive/MyDrive/yolov5/dataset/export/labels/\"\n",
        "destination = \"train/labels/\"\n",
        "for fileT in trainImages:\n",
        "  fileT = fileT.replace(\".jpg\",\".txt\")\n",
        "  shutil.move(source+fileT , destination+fileT)\n",
        "\n",
        "source = \"/content/drive/MyDrive/yolov5/dataset/export/labels/\"\n",
        "destination = \"valid/labels/\"\n",
        "for fileT in valImages:\n",
        "  fileT = fileT.replace(\".jpg\",\".txt\")\n",
        "  shutil.move(source+fileT , destination+fileT)\n",
        "\n",
        "source = \"/content/drive/MyDrive/yolov5/dataset/export/labels/\"\n",
        "destination = \"test/labels/\"\n",
        "for fileT in testImages:\n",
        "  fileT = fileT.replace(\".jpg\",\".txt\")\n",
        "  shutil.move(source+fileT , destination+fileT)\n",
        "\n"
      ],
      "metadata": {
        "colab": {
          "base_uri": "https://localhost:8080/"
        },
        "id": "8ogxav9S9HC8",
        "outputId": "ff20064e-b264-4352-bdb0-cc5aa4170d8a"
      },
      "execution_count": null,
      "outputs": [
        {
          "output_type": "stream",
          "name": "stdout",
          "text": [
            "/content/drive/MyDrive/yolov5/dataset\n",
            "28081\n",
            "561\n",
            "1796.1 449 561\n",
            "1797 449 562\n"
          ]
        }
      ]
    },
    {
      "cell_type": "code",
      "execution_count": null,
      "metadata": {
        "colab": {
          "base_uri": "https://localhost:8080/"
        },
        "id": "ZZ3DmmGQztJj",
        "outputId": "2c6ad325-6595-4566-a7f9-60794e923350"
      },
      "outputs": [
        {
          "output_type": "stream",
          "name": "stdout",
          "text": [
            "train: ../train/images\n",
            "val: ../valid/images\n",
            "\n",
            "nc: 11\n",
            "names: ['biker', 'car', 'pedestrian', 'trafficLight', 'trafficLight-Green', 'trafficLight-GreenLeft', 'trafficLight-Red', 'trafficLight-RedLeft', 'trafficLight-Yellow', 'trafficLight-YellowLeft', 'truck']"
          ]
        }
      ],
      "source": [
        "#extracting information from the yaml file of roboflow classes\n",
        "%cat data.yaml"
      ]
    },
    {
      "cell_type": "code",
      "execution_count": null,
      "metadata": {
        "id": "WkHH9bNiu1EO"
      },
      "outputs": [],
      "source": [
        "# define number of classes based on data.yaml\n",
        "import yaml\n",
        "with open(\"data.yaml\", 'r') as stream:\n",
        "    num_classes = str(yaml.safe_load(stream)['nc'])"
      ]
    },
    {
      "cell_type": "code",
      "execution_count": null,
      "metadata": {
        "id": "Z814lxPAvBz7",
        "colab": {
          "base_uri": "https://localhost:8080/"
        },
        "outputId": "82aef6ed-fccf-4da3-d0d2-b8de6040dbf3"
      },
      "outputs": [
        {
          "output_type": "stream",
          "name": "stdout",
          "text": [
            "# YOLOv5 🚀 by Ultralytics, GPL-3.0 license\n",
            "\n",
            "# Parameters\n",
            "nc: 80  # number of classes\n",
            "depth_multiple: 0.33  # model depth multiple\n",
            "width_multiple: 0.50  # layer channel multiple\n",
            "anchors:\n",
            "  - [10,13, 16,30, 33,23]  # P3/8\n",
            "  - [30,61, 62,45, 59,119]  # P4/16\n",
            "  - [116,90, 156,198, 373,326]  # P5/32\n",
            "\n",
            "# YOLOv5 v6.0 backbone\n",
            "backbone:\n",
            "  # [from, number, module, args]\n",
            "  [[-1, 1, Conv, [64, 6, 2, 2]],  # 0-P1/2\n",
            "   [-1, 1, Conv, [128, 3, 2]],  # 1-P2/4\n",
            "   [-1, 3, C3, [128]],\n",
            "   [-1, 1, Conv, [256, 3, 2]],  # 3-P3/8\n",
            "   [-1, 6, C3, [256]],\n",
            "   [-1, 1, Conv, [512, 3, 2]],  # 5-P4/16\n",
            "   [-1, 9, C3, [512]],\n",
            "   [-1, 1, Conv, [1024, 3, 2]],  # 7-P5/32\n",
            "   [-1, 3, C3, [1024]],\n",
            "   [-1, 1, SPPF, [1024, 5]],  # 9\n",
            "  ]\n",
            "\n",
            "# YOLOv5 v6.0 head\n",
            "head:\n",
            "  [[-1, 1, Conv, [512, 1, 1]],\n",
            "   [-1, 1, nn.Upsample, [None, 2, 'nearest']],\n",
            "   [[-1, 6], 1, Concat, [1]],  # cat backbone P4\n",
            "   [-1, 3, C3, [512, False]],  # 13\n",
            "\n",
            "   [-1, 1, Conv, [256, 1, 1]],\n",
            "   [-1, 1, nn.Upsample, [None, 2, 'nearest']],\n",
            "   [[-1, 4], 1, Concat, [1]],  # cat backbone P3\n",
            "   [-1, 3, C3, [256, False]],  # 17 (P3/8-small)\n",
            "\n",
            "   [-1, 1, Conv, [256, 3, 2]],\n",
            "   [[-1, 14], 1, Concat, [1]],  # cat head P4\n",
            "   [-1, 3, C3, [512, False]],  # 20 (P4/16-medium)\n",
            "\n",
            "   [-1, 1, Conv, [512, 3, 2]],\n",
            "   [[-1, 10], 1, Concat, [1]],  # cat head P5\n",
            "   [-1, 3, C3, [1024, False]],  # 23 (P5/32-large)\n",
            "\n",
            "   [[17, 20, 23], 1, Detect, [nc, anchors]],  # Detect(P3, P4, P5)\n",
            "  ]\n"
          ]
        }
      ],
      "source": [
        "%cat /content/drive/MyDrive/yolov5/models/yolov5s.yaml"
      ]
    },
    {
      "cell_type": "code",
      "execution_count": null,
      "metadata": {
        "id": "oojOSw3GvIsT"
      },
      "outputs": [],
      "source": [
        "#customize iPython writefile so we can write variables\n",
        "#A Python module is a text file containing Python code. %%writefile lets you output code developed in a Notebook to a Python module\n",
        "from IPython.core.magic import register_line_cell_magic\n",
        "\n",
        "@register_line_cell_magic\n",
        "def writetemplate(line, cell):\n",
        "    with open(line, 'w') as f:\n",
        "        f.write(cell.format(**globals()))"
      ]
    },
    {
      "cell_type": "code",
      "execution_count": null,
      "metadata": {
        "id": "uDxebz13RdRA"
      },
      "outputs": [],
      "source": [
        "%%writetemplate /content/drive/MyDrive/yolov5/models/custom_yolov5s.yaml\n",
        "\n",
        "# parameters\n",
        "nc: {num_classes}  # number of classes\n",
        "depth_multiple: 0.33  # model depth multiple\n",
        "width_multiple: 0.50  # layer channel multiple\n",
        "\n",
        "# anchors\n",
        "anchors:\n",
        "  - [10,13, 16,30, 33,23]  \n",
        "  - [30,61, 62,45, 59,119]  \n",
        "  - [116,90, 156,198, 373,326] \n",
        "\n",
        "# YOLOv5 backbone\n",
        "backbone:\n",
        "  # [from, number, module, args]\n",
        "  [[-1, 1, Focus, [64, 3]], \n",
        "   [-1, 1, Conv, [128, 3, 2]],  \n",
        "   #Conv-128-3-1 represents a convolutional layer with 128 filters of kernel size 3 and stride 2\n",
        "   [-1, 3, BottleneckCSP, [128]],\n",
        "   [-1, 1, Conv, [256, 3, 2]], \n",
        "   [-1, 9, BottleneckCSP, [256]],\n",
        "   [-1, 1, Conv, [512, 3, 2]],  \n",
        "   [-1, 9, BottleneckCSP, [512]],\n",
        "   [-1, 1, Conv, [1024, 3, 2]], \n",
        "   [-1, 1, SPP, [1024, [5, 9, 13]]],\n",
        "   [-1, 3, BottleneckCSP, [1024, False]], \n",
        "  ]\n",
        "\n",
        "# YOLOv5 head - This is the last layer of YOLOv5, and it detects the results in the form of confidence score, size, and accuracy\n",
        "head:\n",
        "  [[-1, 1, Conv, [512, 1, 1]],\n",
        "   [-1, 1, nn.Upsample, [None, 2, 'nearest']],\n",
        "   [[-1, 6], 1, Concat, [1]],  # cat backbone P4\n",
        "   [-1, 3, BottleneckCSP, [512, False]],  # 13\n",
        "\n",
        "   [-1, 1, Conv, [256, 1, 1]],\n",
        "   [-1, 1, nn.Upsample, [None, 2, 'nearest']],\n",
        "   [[-1, 4], 1, Concat, [1]],  # cat backbone P3\n",
        "   [-1, 3, BottleneckCSP, [256, False]], \n",
        "   [-1, 1, Conv, [256, 3, 2]],\n",
        "   [[-1, 14], 1, Concat, [1]],  # cat head P4\n",
        "   [-1, 3, BottleneckCSP, [512, False]],  \n",
        "   [-1, 1, Conv, [512, 3, 2]],\n",
        "   [[-1, 10], 1, Concat, [1]],  # cat head P5\n",
        "   [-1, 3, BottleneckCSP, [1024, False]],  \n",
        "\n",
        "   [[17, 20, 23], 1, Detect, [nc, anchors]], \n",
        "  ]"
      ]
    },
    {
      "cell_type": "code",
      "execution_count": null,
      "metadata": {
        "colab": {
          "base_uri": "https://localhost:8080/"
        },
        "id": "1NcFxRcFdJ_O",
        "outputId": "bb83e223-665c-41b8-fac2-b152523c5cf8"
      },
      "outputs": [
        {
          "output_type": "stream",
          "name": "stdout",
          "text": [
            "/content/drive/MyDrive/yolov5\n",
            "^C\n",
            "CPU times: user 63.7 ms, sys: 13.8 ms, total: 77.5 ms\n",
            "Wall time: 7.37 s\n"
          ]
        }
      ],
      "source": [
        "# train yolov5s on custom data for 100 epochs\n",
        "# time its performance\n",
        "%%time\n",
        "%cd /content/drive/MyDrive/yolov5\n",
        "!python train.py --img 416 --batch 16 --epochs 100 --data '../data.yaml' --cfg ./models/custom_yolov5s.yaml --weights '' --name yolov5s_results  --cache"
      ]
    },
    {
      "cell_type": "code",
      "execution_count": null,
      "metadata": {
        "colab": {
          "base_uri": "https://localhost:8080/"
        },
        "id": "PF9MLHDb7tB6",
        "outputId": "d2147d62-9db2-4f02-df52-3b37d0f4258d"
      },
      "outputs": [
        {
          "output_type": "stream",
          "name": "stdout",
          "text": [
            "\u001b[34m\u001b[1mdetect: \u001b[0mweights=['/content/drive/MyDrive/yolov5/traineddata/best.pt'], source=/content/drive/MyDrive/yolov5/1478020210691558747_jpg.rf.tVGZJvw5LI19xAd0Jzgy.jpg, data=../../../../yolov5/data/coco128.yaml, imgsz=[416, 416], conf_thres=0.4, iou_thres=0.45, max_det=1000, device=, view_img=False, save_txt=False, save_conf=False, save_crop=False, nosave=False, classes=None, agnostic_nms=False, augment=False, visualize=False, update=False, project=../../../../yolov5/runs/detect, name=exp, exist_ok=False, line_thickness=3, hide_labels=False, hide_conf=False, half=False, dnn=False\n",
            "YOLOv5 🚀 v6.1-164-g177da7f torch 1.11.0+cu113 CPU\n",
            "\n",
            "Fusing layers... \n",
            "custom_YOLOv5s summary: 232 layers, 7273488 parameters, 0 gradients\n",
            "image 1/1 /content/drive/MyDrive/yolov5/1478020210691558747_jpg.rf.tVGZJvw5LI19xAd0Jzgy.jpg: 288x416 2 cars, 1 trafficLight-Green, 1 trafficLight-Red, Done. (0.190s)\n",
            "Speed: 0.8ms pre-process, 189.8ms inference, 33.1ms NMS per image at shape (1, 3, 416, 416)\n",
            "Results saved to \u001b[1m../../../../yolov5/runs/detect/exp\u001b[0m\n"
          ]
        }
      ],
      "source": [
        "!python /content/yolov5/detect.py --weights /content/drive/MyDrive/yolov5/traineddata/best.pt --img 416 --conf 0.4 --source /content/drive/MyDrive/yolov5/1478020210691558747_jpg.rf.tVGZJvw5LI19xAd0Jzgy.jpg"
      ]
    }
  ],
  "metadata": {
    "colab": {
      "collapsed_sections": [],
      "name": "stage_1_project self driving object detection",
      "provenance": []
    },
    "kernelspec": {
      "display_name": "Python 3",
      "name": "python3"
    }
  },
  "nbformat": 4,
  "nbformat_minor": 0
}